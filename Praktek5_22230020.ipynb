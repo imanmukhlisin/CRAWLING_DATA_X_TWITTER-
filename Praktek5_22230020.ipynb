{
 "cells": [
  {
   "cell_type": "code",
   "execution_count": null,
   "id": "9bae48d0-0c51-434f-9009-02a5124c89dc",
   "metadata": {},
   "outputs": [],
   "source": [
    "import requests\n",
    "import json\n",
    "import pandas as pd\n",
    "\n",
    "BEARER_TOKEN = 'AAAAAAAAAAAAAAAAAAAAACF60gEAAAAAwx8eZcZMeyjfWy9gDpi32NMyrYs%3D2GXI0gfdQD68MVd1mqyi21bCYhHtybiMbkcARmK4rJ5HgMNK6d'\n",
    "\n",
    "query = 'liga inggris'\n",
    "\n",
    "search_url = \"https://api.twitter.com/2/tweets/search/recent\"\n",
    "\n",
    "query_params = {\n",
    "    'query': query,\n",
    "    'max_results': 50,  # Bisa 10 sampai 100 (kalau lebih harus pakai pagination)\n",
    "    'tweet.fields': 'author_id,created_at,public_metrics',\n",
    "    'expansions': 'author_id',\n",
    "    'user.fields': 'username',\n",
    "}\n",
    "\n",
    "headers = {\n",
    "    'Authorization': f'Bearer {BEARER_TOKEN}',\n",
    "    'User-Agent': 'v2RecentSearchPython'\n",
    "}\n",
    "\n",
    "def connect_to_endpoint(url, headers, params):\n",
    "    response = requests.get(url, headers=headers, params=params)\n",
    "    if response.status_code != 200:\n",
    "        raise Exception(f\"Request gagal: {response.status_code}, {response.text}\")\n",
    "    return response.json()\n",
    "\n",
    "json_response = connect_to_endpoint(search_url, headers, query_params)\n",
    "\n",
    "tweets_data = []\n",
    "for tweet in json_response['data']:\n",
    "    tweets_data.append({\n",
    "        'Tweet ID': tweet['id'],\n",
    "        'Author ID': tweet['author_id'],\n",
    "        'Tanggal': tweet['created_at'],\n",
    "        'Isi Tweet': tweet['text'],\n",
    "        'Retweet Count': tweet['public_metrics']['retweet_count'],\n",
    "        'Reply Count': tweet['public_metrics']['reply_count'],\n",
    "        'Like Count': tweet['public_metrics']['like_count'],\n",
    "        'Quote Count': tweet['public_metrics']['quote_count'],\n",
    "    })\n",
    "\n",
    "df = pd.DataFrame(tweets_data)\n",
    "df.to_csv('kelompok1_22230020.csv', index=False)\n",
    "print(\"Sukses! Data disimpan di hasil_crawling_twitter.csv\")"
   ]
  }
 ],
 "metadata": {
  "kernelspec": {
   "display_name": "Python 3 (ipykernel)",
   "language": "python",
   "name": "python3"
  },
  "language_info": {
   "codemirror_mode": {
    "name": "ipython",
    "version": 3
   },
   "file_extension": ".py",
   "mimetype": "text/x-python",
   "name": "python",
   "nbconvert_exporter": "python",
   "pygments_lexer": "ipython3",
   "version": "3.12.7"
  }
 },
 "nbformat": 4,
 "nbformat_minor": 5
}
